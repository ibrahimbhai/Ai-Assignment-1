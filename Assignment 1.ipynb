{
 "cells": [
  {
   "cell_type": "markdown",
   "metadata": {},
   "source": [
    "# ASSIGNMENT "
   ]
  },
  {
   "cell_type": "markdown",
   "metadata": {},
   "source": [
    "<h3> 1 : Declare and initialize a variable name total_marks with a value 500</h3>\n"
   ]
  },
  {
   "cell_type": "code",
   "execution_count": 1,
   "metadata": {},
   "outputs": [
    {
     "name": "stdout",
     "output_type": "stream",
     "text": [
      "enter a value :500\n",
      "500\n"
     ]
    }
   ],
   "source": [
    "total_marks = int(input(\"enter a value :\"))\n",
    "print (total_marks)"
   ]
  },
  {
   "cell_type": "markdown",
   "metadata": {},
   "source": [
    "<h3> 2 : Declare and initialize 5 variables name maths , english , urdu , physics and chemisrty with different integer values</h3>"
   ]
  },
  {
   "cell_type": "code",
   "execution_count": 2,
   "metadata": {},
   "outputs": [
    {
     "name": "stdout",
     "output_type": "stream",
     "text": [
      "marks of math: 87\n",
      "marks of phy: 93\n",
      "marks of chem: 68\n",
      "marks of english: 69\n",
      "marks of urdu: 84\n",
      "A B C D E\n"
     ]
    }
   ],
   "source": [
    "A = int(input(\"marks of math: \"))\n",
    "B = int(input(\"marks of phy: \"))\n",
    "C = int(input(\"marks of chem: \"))\n",
    "D = int(input(\"marks of english: \"))\n",
    "E = int(input(\"marks of urdu: \"))\n",
    "print ('A','B','C','D',\"E\")"
   ]
  },
  {
   "cell_type": "markdown",
   "metadata": {},
   "source": [
    "<h3>3 : Calculate the obtained marks And assign the value In variable name obtained_marks</h3>"
   ]
  },
  {
   "cell_type": "code",
   "execution_count": 3,
   "metadata": {},
   "outputs": [
    {
     "name": "stdout",
     "output_type": "stream",
     "text": [
      "401\n"
     ]
    }
   ],
   "source": [
    "total_obt = A+B+C+D+E\n",
    "print(total_obt)"
   ]
  },
  {
   "cell_type": "markdown",
   "metadata": {},
   "source": [
    "<h3>4 : Calculate percentage and assign the value in variable name percentage</h3>"
   ]
  },
  {
   "cell_type": "code",
   "execution_count": 4,
   "metadata": {},
   "outputs": [
    {
     "name": "stdout",
     "output_type": "stream",
     "text": [
      "80.2\n"
     ]
    }
   ],
   "source": [
    "total_marks = 500\n",
    "per = (total_obt/total_marks)*100\n",
    "print(per)"
   ]
  },
  {
   "cell_type": "markdown",
   "metadata": {},
   "source": [
    "<h3>5 : Declare and initialize an empty variable name grade </h3>"
   ]
  },
  {
   "cell_type": "code",
   "execution_count": 5,
   "metadata": {},
   "outputs": [
    {
     "name": "stdout",
     "output_type": "stream",
     "text": [
      "A\n"
     ]
    }
   ],
   "source": [
    "grade:''\n",
    "if (per>90 and per<=100):\n",
    "        grade='A+'\n",
    "elif (per<90 and per>=80):\n",
    "        grade='A'\n",
    "elif (per<80 and per>=70):\n",
    "        grade='B'\n",
    "elif (per<70 and per>=60):\n",
    "        grade='C'\n",
    "elif (per<60 and per>=50):\n",
    "        grade='D'\n",
    "else:\n",
    "    grade=fail\n",
    "print(grade)"
   ]
  },
  {
   "cell_type": "markdown",
   "metadata": {},
   "source": [
    "### 6: print your biodata "
   ]
  },
  {
   "cell_type": "code",
   "execution_count": 8,
   "metadata": {},
   "outputs": [
    {
     "name": "stdout",
     "output_type": "stream",
     "text": [
      "enter the nameSyed Ibrahim Hassan\n",
      "Name:  Syed Ibrahim Hassan\n"
     ]
    }
   ],
   "source": [
    "name = input(\"enter the name\")\n",
    "print(\"Name: \",name)"
   ]
  },
  {
   "cell_type": "code",
   "execution_count": 7,
   "metadata": {},
   "outputs": [
    {
     "name": "stdout",
     "output_type": "stream",
     "text": [
      "Obtained marks:  401 Percentage:  80.2 Grade:  A\n"
     ]
    }
   ],
   "source": [
    "print('Obtained marks: ',total_obt,'Percentage: ',per,'Grade: ',grade)"
   ]
  },
  {
   "cell_type": "code",
   "execution_count": null,
   "metadata": {},
   "outputs": [],
   "source": []
  }
 ],
 "metadata": {
  "kernelspec": {
   "display_name": "Python 3",
   "language": "python",
   "name": "python3"
  },
  "language_info": {
   "codemirror_mode": {
    "name": "ipython",
    "version": 3
   },
   "file_extension": ".py",
   "mimetype": "text/x-python",
   "name": "python",
   "nbconvert_exporter": "python",
   "pygments_lexer": "ipython3",
   "version": "3.7.3"
  }
 },
 "nbformat": 4,
 "nbformat_minor": 2
}
